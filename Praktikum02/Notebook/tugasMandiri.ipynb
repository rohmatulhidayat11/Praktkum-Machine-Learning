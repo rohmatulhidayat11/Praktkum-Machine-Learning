{
 "cells": [
  {
   "cell_type": "code",
   "execution_count": 3,
   "id": "06fb46cb",
   "metadata": {},
   "outputs": [
    {
     "name": "stdout",
     "output_type": "stream",
     "text": [
      "Current Working Directory: c:\\Users\\user\\OneDrive\\Documents\\semester 3\\ML3\\praktikum\\Praktikum02\\Notebook\n",
      "\n",
      "ERROR: File not found at the relative path: praktikum/Praktikum02/Data/.ipynb_checkpoints/500_Person_Gender_Height_Weight_Index-checkpoint.csv\n",
      "Please check the relative path or use the full absolute path.\n"
     ]
    }
   ],
   "source": [
    "import pandas as pd\n",
    "import os\n",
    "\n",
    "# 1. Tampilkan CWD Anda untuk diagnostik (opsional)\n",
    "print(\"Current Working Directory:\", os.getcwd())\n",
    "\n",
    "# 2. Gunakan forward slash\n",
    "file_path = 'praktikum/Praktikum02/Data/.ipynb_checkpoints/500_Person_Gender_Height_Weight_Index-checkpoint.csv'\n",
    "\n",
    "try:\n",
    "    df = pd.read_csv(file_path)\n",
    "    print(\"\\nDataFrame loaded successfully!\")\n",
    "    df.info()\n",
    "except FileNotFoundError:\n",
    "    print(f\"\\nERROR: File not found at the relative path: {file_path}\")\n",
    "    print(\"Please check the relative path or use the full absolute path.\")"
   ]
  }
 ],
 "metadata": {
  "kernelspec": {
   "display_name": "Python 3",
   "language": "python",
   "name": "python3"
  },
  "language_info": {
   "codemirror_mode": {
    "name": "ipython",
    "version": 3
   },
   "file_extension": ".py",
   "mimetype": "text/x-python",
   "name": "python",
   "nbconvert_exporter": "python",
   "pygments_lexer": "ipython3",
   "version": "3.11.9"
  }
 },
 "nbformat": 4,
 "nbformat_minor": 5
}
